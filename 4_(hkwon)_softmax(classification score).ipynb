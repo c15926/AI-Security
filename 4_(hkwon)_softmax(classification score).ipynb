{
  "nbformat": 4,
  "nbformat_minor": 0,
  "metadata": {
    "colab": {
      "provenance": []
    },
    "kernelspec": {
      "name": "python3",
      "display_name": "Python 3"
    }
  },
  "cells": [
    {
      "cell_type": "markdown",
      "source": [
        "# 4. [Softmax 층] \n",
        "딥뉴럴네트워크, 컨볼루션 뉴럴네트워크 등 마지막 층에서 각 클래스별로 확률값을 제공해서 가장 높은 확률값을 갖는 클래스로 분류하게 된다. \n",
        "\n",
        "각 확률값으로 변환시켜주는 함수가 softmax function이며 그 입력값은 logit 값이 되고 출력삾은 확률값이 나온다.\n",
        "\n",
        "그 식 $f_{softmax}$은 아래와 같다. \n",
        "\n",
        "$f_{softmax}(x)_i = \\frac{e^{x_i}}{\\sum^K_{k=1} e^{x_k}}$ for $i=1,2,3...,K$"
      ],
      "metadata": {
        "id": "ro3ZOhZhKchB"
      }
    },
    {
      "cell_type": "code",
      "metadata": {
        "id": "KzgGFJ17KBoM"
      },
      "source": [
        "import numpy as np\n",
        "\n",
        "def softmax(a):  ## a는 행렬로 구성된 값\n",
        "  exp_a = np.exp(a)\n",
        "  sum_exp_a = np.sum(exp_a)\n",
        "  y = exp_a / sum_exp_a\n",
        "    \n",
        "  return y"
      ],
      "execution_count": 12,
      "outputs": []
    },
    {
      "cell_type": "code",
      "metadata": {
        "id": "yOxwWcqKKJxW",
        "outputId": "bcdf5ed5-2e5d-446b-a555-deacb066984e",
        "colab": {
          "base_uri": "https://localhost:8080/"
        }
      },
      "source": [
        "a = np.array([0.3,2.9,4.0])\n",
        "exp_a = np.exp(a)\n",
        "sum_exp_a = np.sum(exp_a)\n",
        "y = exp_a / sum_exp_a\n",
        "print(y)"
      ],
      "execution_count": 14,
      "outputs": [
        {
          "output_type": "stream",
          "name": "stdout",
          "text": [
            "[0.01821127 0.24519181 0.73659691]\n"
          ]
        }
      ]
    },
    {
      "cell_type": "code",
      "source": [],
      "metadata": {
        "id": "OxOf7hj7Lj99"
      },
      "execution_count": null,
      "outputs": []
    },
    {
      "cell_type": "markdown",
      "source": [
        "## 이번 강의에서 핵심 부분(시험 출제 예상 문제)\n",
        "1. (이론) logit 값을 확률값으로 바꾸는 softmax 함수를 이용해서 확률 구하기\n",
        "2. (실습) 퀴즈로 softmax 함수 구현해서 만들기\n",
        "\n",
        "예를 들어, logit 값을 행렬식으로 주어지면 이것을 softmax 함수를 통해서 각각의 확률값으로 변환해보기"
      ],
      "metadata": {
        "id": "HYB4hHH7Lk9J"
      }
    }
  ]
}